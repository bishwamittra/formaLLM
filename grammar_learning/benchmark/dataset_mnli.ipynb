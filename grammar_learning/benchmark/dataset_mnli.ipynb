{
 "cells": [
  {
   "cell_type": "code",
   "execution_count": 1,
   "id": "d8ec2a55",
   "metadata": {},
   "outputs": [],
   "source": [
    "import os\n",
    "os.environ[\"HF_HUB_CACHE\"] = \"/NS/formal-grammar-and-memorization/nobackup/shared/huggingface_cache/hub\"\n",
    "os.environ[\"HF_DATASETS_CACHE\"] = \"/NS/formal-grammar-and-memorization/nobackup/shared/huggingface_cache/datasets\""
   ]
  },
  {
   "cell_type": "code",
   "execution_count": 2,
   "id": "b9c8f28e",
   "metadata": {},
   "outputs": [],
   "source": [
    "# from datasets import load_dataset\n",
    "# ds = load_dataset(\"nyu-mll/multi_nli\")\n",
    "\n",
    "import pandas as pd\n",
    "\n",
    "splits = {'train': 'data/train-00000-of-00001.parquet', 'validation_matched': 'data/validation_matched-00000-of-00001.parquet', 'validation_mismatched': 'data/validation_mismatched-00000-of-00001.parquet'}\n",
    "df_train = pd.read_parquet(\"hf://datasets/nyu-mll/multi_nli/\" + splits[\"train\"])\n",
    "df_val_matched = pd.read_parquet(\"hf://datasets/nyu-mll/multi_nli/\" + splits[\"validation_matched\"])\n",
    "df_val_mismatched = pd.read_parquet(\"hf://datasets/nyu-mll/multi_nli/\" + splits[\"validation_mismatched\"])"
   ]
  },
  {
   "cell_type": "code",
   "execution_count": 3,
   "id": "4d43ff42",
   "metadata": {},
   "outputs": [],
   "source": [
    "label_map = {\n",
    "    1: \"neutral\",\n",
    "    0: \"entailment\",\n",
    "    2: \"contradiction\",\n",
    "}"
   ]
  },
  {
   "cell_type": "code",
   "execution_count": 4,
   "id": "ae451bca",
   "metadata": {},
   "outputs": [],
   "source": [
    "import random\n",
    "def process_columns(df):\n",
    "    random.seed(5)\n",
    "    df['label_flipped'] = df['label'].apply(\n",
    "        lambda x: random.choice([label for label in [0, 1, 2] if label != x])\n",
    "    )\n",
    "    assert (df['label_flipped'] != df['label']).all()\n",
    "    df['label_str'] = df['label'].map(label_map)\n",
    "    df['label_flipped_str'] = df['label_flipped'].map(label_map)\n",
    "    df['in-language'] = 'Premise: ' + df[\"premise\"] + '\\nHyopthesis: ' + df[\"hypothesis\"] + '\\nLabel: ' + df[\"label_str\"]\n",
    "    df['out-language'] = 'Premise: ' + df[\"premise\"] + '\\nHyopthesis: ' + df[\"hypothesis\"] + '\\nLabel: ' + df[\"label_flipped_str\"]\n",
    "    return df\n",
    "\n",
    "df_train = process_columns(df_train)\n",
    "df_val_matched = process_columns(df_val_matched)\n",
    "df_val_mismatched = process_columns(df_val_mismatched)"
   ]
  },
  {
   "cell_type": "code",
   "execution_count": 5,
   "id": "401132fa",
   "metadata": {},
   "outputs": [],
   "source": [
    "instruction = \"\"\"Provide a classification label for the pair, indicating the relationship between the premise and hypothesis:\n",
    "- entailment : The hypothesis logically follows from the premise.\n",
    "- neutral : The hypothesis is neither entailed nor contradicted by the premise.\n",
    "- contradiction : The hypothesis contradicts the premise.\n",
    "\n",
    "\n",
    "\"\"\""
   ]
  },
  {
   "cell_type": "code",
   "execution_count": 21,
   "id": "59763a69",
   "metadata": {},
   "outputs": [
    {
     "name": "stdout",
     "output_type": "stream",
     "text": [
      "Premise: Fun for adults and children.\n",
      "Hyopthesis: Fun for only children.\n",
      "Label: contradiction\n"
     ]
    }
   ],
   "source": [
    "print(df_train.iloc[11]['in-language'])"
   ]
  },
  {
   "cell_type": "code",
   "execution_count": 22,
   "id": "75271ad6",
   "metadata": {},
   "outputs": [
    {
     "name": "stdout",
     "output_type": "stream",
     "text": [
      "Premise: Fun for adults and children.\n",
      "Hyopthesis: Fun for only children.\n",
      "Label: neutral\n"
     ]
    }
   ],
   "source": [
    "print(df_train.iloc[11]['out-language'])"
   ]
  },
  {
   "cell_type": "code",
   "execution_count": 8,
   "id": "f7fc1ac1",
   "metadata": {},
   "outputs": [
    {
     "name": "stdout",
     "output_type": "stream",
     "text": [
      "Premise:  We serve a classic Tuscan meal that includes a Florentine terrine made with dick and chicken livers.\n",
      "Hyopthesis: We serve a meal of Florentine terrine.\n",
      "Label: entailment\n"
     ]
    }
   ],
   "source": [
    "print(df_val_mismatched.iloc[2]['in-language'])"
   ]
  },
  {
   "cell_type": "code",
   "execution_count": 9,
   "id": "7eb0453a",
   "metadata": {},
   "outputs": [
    {
     "data": {
      "text/plain": [
       "array(['government', 'telephone', 'fiction', 'travel', 'slate'],\n",
       "      dtype=object)"
      ]
     },
     "execution_count": 9,
     "metadata": {},
     "output_type": "execute_result"
    }
   ],
   "source": [
    "df_train['genre'].unique()"
   ]
  },
  {
   "cell_type": "code",
   "execution_count": 10,
   "id": "4bd2e246",
   "metadata": {},
   "outputs": [
    {
     "data": {
      "text/html": [
       "<div>\n",
       "<style scoped>\n",
       "    .dataframe tbody tr th:only-of-type {\n",
       "        vertical-align: middle;\n",
       "    }\n",
       "\n",
       "    .dataframe tbody tr th {\n",
       "        vertical-align: top;\n",
       "    }\n",
       "\n",
       "    .dataframe thead th {\n",
       "        text-align: right;\n",
       "    }\n",
       "</style>\n",
       "<table border=\"1\" class=\"dataframe\">\n",
       "  <thead>\n",
       "    <tr style=\"text-align: right;\">\n",
       "      <th></th>\n",
       "      <th>promptID</th>\n",
       "      <th>pairID</th>\n",
       "      <th>premise</th>\n",
       "      <th>premise_binary_parse</th>\n",
       "      <th>premise_parse</th>\n",
       "      <th>hypothesis</th>\n",
       "      <th>hypothesis_binary_parse</th>\n",
       "      <th>hypothesis_parse</th>\n",
       "      <th>label</th>\n",
       "      <th>label_flipped</th>\n",
       "      <th>label_str</th>\n",
       "      <th>label_flipped_str</th>\n",
       "      <th>in-language</th>\n",
       "      <th>out-language</th>\n",
       "    </tr>\n",
       "    <tr>\n",
       "      <th>genre</th>\n",
       "      <th></th>\n",
       "      <th></th>\n",
       "      <th></th>\n",
       "      <th></th>\n",
       "      <th></th>\n",
       "      <th></th>\n",
       "      <th></th>\n",
       "      <th></th>\n",
       "      <th></th>\n",
       "      <th></th>\n",
       "      <th></th>\n",
       "      <th></th>\n",
       "      <th></th>\n",
       "      <th></th>\n",
       "    </tr>\n",
       "  </thead>\n",
       "  <tbody>\n",
       "    <tr>\n",
       "      <th>fiction</th>\n",
       "      <td>1973</td>\n",
       "      <td>1973</td>\n",
       "      <td>1973</td>\n",
       "      <td>1973</td>\n",
       "      <td>1973</td>\n",
       "      <td>1973</td>\n",
       "      <td>1973</td>\n",
       "      <td>1973</td>\n",
       "      <td>1973</td>\n",
       "      <td>1973</td>\n",
       "      <td>1973</td>\n",
       "      <td>1973</td>\n",
       "      <td>1973</td>\n",
       "      <td>1973</td>\n",
       "    </tr>\n",
       "    <tr>\n",
       "      <th>government</th>\n",
       "      <td>1945</td>\n",
       "      <td>1945</td>\n",
       "      <td>1945</td>\n",
       "      <td>1945</td>\n",
       "      <td>1945</td>\n",
       "      <td>1945</td>\n",
       "      <td>1945</td>\n",
       "      <td>1945</td>\n",
       "      <td>1945</td>\n",
       "      <td>1945</td>\n",
       "      <td>1945</td>\n",
       "      <td>1945</td>\n",
       "      <td>1945</td>\n",
       "      <td>1945</td>\n",
       "    </tr>\n",
       "    <tr>\n",
       "      <th>slate</th>\n",
       "      <td>1955</td>\n",
       "      <td>1955</td>\n",
       "      <td>1955</td>\n",
       "      <td>1955</td>\n",
       "      <td>1955</td>\n",
       "      <td>1955</td>\n",
       "      <td>1955</td>\n",
       "      <td>1955</td>\n",
       "      <td>1955</td>\n",
       "      <td>1955</td>\n",
       "      <td>1955</td>\n",
       "      <td>1955</td>\n",
       "      <td>1955</td>\n",
       "      <td>1955</td>\n",
       "    </tr>\n",
       "    <tr>\n",
       "      <th>telephone</th>\n",
       "      <td>1966</td>\n",
       "      <td>1966</td>\n",
       "      <td>1966</td>\n",
       "      <td>1966</td>\n",
       "      <td>1966</td>\n",
       "      <td>1966</td>\n",
       "      <td>1966</td>\n",
       "      <td>1966</td>\n",
       "      <td>1966</td>\n",
       "      <td>1966</td>\n",
       "      <td>1966</td>\n",
       "      <td>1966</td>\n",
       "      <td>1966</td>\n",
       "      <td>1966</td>\n",
       "    </tr>\n",
       "    <tr>\n",
       "      <th>travel</th>\n",
       "      <td>1976</td>\n",
       "      <td>1976</td>\n",
       "      <td>1976</td>\n",
       "      <td>1976</td>\n",
       "      <td>1976</td>\n",
       "      <td>1976</td>\n",
       "      <td>1976</td>\n",
       "      <td>1976</td>\n",
       "      <td>1976</td>\n",
       "      <td>1976</td>\n",
       "      <td>1976</td>\n",
       "      <td>1976</td>\n",
       "      <td>1976</td>\n",
       "      <td>1976</td>\n",
       "    </tr>\n",
       "  </tbody>\n",
       "</table>\n",
       "</div>"
      ],
      "text/plain": [
       "            promptID  pairID  premise  premise_binary_parse  premise_parse  \\\n",
       "genre                                                                        \n",
       "fiction         1973    1973     1973                  1973           1973   \n",
       "government      1945    1945     1945                  1945           1945   \n",
       "slate           1955    1955     1955                  1955           1955   \n",
       "telephone       1966    1966     1966                  1966           1966   \n",
       "travel          1976    1976     1976                  1976           1976   \n",
       "\n",
       "            hypothesis  hypothesis_binary_parse  hypothesis_parse  label  \\\n",
       "genre                                                                      \n",
       "fiction           1973                     1973              1973   1973   \n",
       "government        1945                     1945              1945   1945   \n",
       "slate             1955                     1955              1955   1955   \n",
       "telephone         1966                     1966              1966   1966   \n",
       "travel            1976                     1976              1976   1976   \n",
       "\n",
       "            label_flipped  label_str  label_flipped_str  in-language  \\\n",
       "genre                                                                  \n",
       "fiction              1973       1973               1973         1973   \n",
       "government           1945       1945               1945         1945   \n",
       "slate                1955       1955               1955         1955   \n",
       "telephone            1966       1966               1966         1966   \n",
       "travel               1976       1976               1976         1976   \n",
       "\n",
       "            out-language  \n",
       "genre                     \n",
       "fiction             1973  \n",
       "government          1945  \n",
       "slate               1955  \n",
       "telephone           1966  \n",
       "travel              1976  "
      ]
     },
     "execution_count": 10,
     "metadata": {},
     "output_type": "execute_result"
    }
   ],
   "source": [
    "df_val_matched.groupby('genre').count()"
   ]
  },
  {
   "cell_type": "code",
   "execution_count": 11,
   "id": "f89b6ea8",
   "metadata": {},
   "outputs": [
    {
     "data": {
      "text/plain": [
       "array(['slate', 'government', 'telephone', 'travel', 'fiction'],\n",
       "      dtype=object)"
      ]
     },
     "execution_count": 11,
     "metadata": {},
     "output_type": "execute_result"
    }
   ],
   "source": [
    "df_val_matched['genre'].unique()"
   ]
  },
  {
   "cell_type": "code",
   "execution_count": 12,
   "id": "5e7a1ea5",
   "metadata": {},
   "outputs": [
    {
     "data": {
      "text/plain": [
       "((77350, 15), (1945, 15), (9832, 15))"
      ]
     },
     "execution_count": 12,
     "metadata": {},
     "output_type": "execute_result"
    }
   ],
   "source": [
    "# select one genre only\n",
    "df_train = df_train[df_train['genre'] == 'government']\n",
    "df_val_matched = df_val_matched[df_val_matched['genre'] == 'government']\n",
    "\n",
    "df_train.shape, df_val_matched.shape, df_val_mismatched.shape"
   ]
  },
  {
   "cell_type": "code",
   "execution_count": 13,
   "id": "8ba39b7d",
   "metadata": {},
   "outputs": [
    {
     "data": {
      "text/plain": [
       "array(['letters', 'verbatim', 'facetoface', 'oup', 'nineeleven'],\n",
       "      dtype=object)"
      ]
     },
     "execution_count": 13,
     "metadata": {},
     "output_type": "execute_result"
    }
   ],
   "source": [
    "df_val_mismatched['genre'].unique()"
   ]
  },
  {
   "cell_type": "code",
   "execution_count": 14,
   "id": "d952fedc",
   "metadata": {},
   "outputs": [],
   "source": [
    "df_train['in-language_len'] = df_train['in-language'].apply(lambda x: len(x.strip()))\n",
    "df_train['out-language_len'] = df_train['out-language'].apply(lambda x: len(x.strip()))\n",
    "df_val_matched['in-language_len'] = df_val_matched['in-language'].apply(lambda x: len(x.strip()))\n",
    "df_val_matched['out-language_len'] = df_val_matched['out-language'].apply(lambda x: len(x.strip()))\n",
    "df_val_mismatched['in-language_len'] = df_val_mismatched['in-language'].apply(lambda x: len(x.strip()))\n",
    "df_val_mismatched['out-language_len'] = df_val_mismatched['out-language'].apply(lambda x: len(x.strip()))"
   ]
  },
  {
   "cell_type": "code",
   "execution_count": 15,
   "id": "96317fa2",
   "metadata": {},
   "outputs": [
    {
     "data": {
      "text/plain": [
       "((0, 17), (0, 17), (0, 17), (0, 17), (0, 17), (0, 17))"
      ]
     },
     "execution_count": 15,
     "metadata": {},
     "output_type": "execute_result"
    }
   ],
   "source": [
    "df_train[df_train['in-language_len'] == 0].shape, df_train[df_train['out-language_len'] == 0].shape, df_val_matched[df_val_matched['in-language_len'] == 0].shape, df_val_matched[df_val_matched['out-language_len'] == 0].shape, df_val_mismatched[df_val_mismatched['in-language_len'] == 0].shape, df_val_mismatched[df_val_mismatched['out-language_len'] == 0].shape"
   ]
  },
  {
   "cell_type": "code",
   "execution_count": 16,
   "id": "e07a1b6d",
   "metadata": {},
   "outputs": [
    {
     "ename": "NameError",
     "evalue": "name 'fa' is not defined",
     "output_type": "error",
     "traceback": [
      "\u001b[0;31m---------------------------------------------------------------------------\u001b[0m",
      "\u001b[0;31mNameError\u001b[0m                                 Traceback (most recent call last)",
      "Cell \u001b[0;32mIn[16], line 1\u001b[0m\n\u001b[0;32m----> 1\u001b[0m \u001b[43mfa\u001b[49m\n",
      "\u001b[0;31mNameError\u001b[0m: name 'fa' is not defined"
     ]
    }
   ],
   "source": [
    "fa"
   ]
  },
  {
   "cell_type": "code",
   "execution_count": 17,
   "id": "cf0b353a",
   "metadata": {},
   "outputs": [],
   "source": [
    "mnli_dataset_in_distribution_dict = {\n",
    "    \"train_sequences\": df_train['in-language'].tolist(),\n",
    "    \"test_sequences\": df_val_matched['in-language'].tolist(),\n",
    "    \"non_grammatical_test_sequences_edit_distance_1\": df_val_matched['out-language'].tolist(),\n",
    "}\n",
    "\n",
    "\n",
    "mnli_dataset_out_distribution_dict = {\n",
    "    \"train_sequences\": df_train['in-language'].tolist(),\n",
    "    \"test_sequences\": df_val_mismatched['in-language'].tolist(),\n",
    "    \"non_grammatical_test_sequences_edit_distance_1\": df_val_mismatched['out-language'].tolist(),\n",
    "}"
   ]
  },
  {
   "cell_type": "code",
   "execution_count": 18,
   "id": "37b87ec2",
   "metadata": {},
   "outputs": [
    {
     "name": "stdout",
     "output_type": "stream",
     "text": [
      "Premise: This site includes a list of all award winners and a searchable database of Government Executive articles.\n",
      "Hyopthesis: The Government Executive articles housed on the website are not able to be searched.\n",
      "Label: contradiction\n"
     ]
    }
   ],
   "source": [
    "print(mnli_dataset_in_distribution_dict[\"test_sequences\"][0])"
   ]
  },
  {
   "cell_type": "code",
   "execution_count": 19,
   "id": "39d27d86",
   "metadata": {},
   "outputs": [
    {
     "name": "stdout",
     "output_type": "stream",
     "text": [
      "Premise: This site includes a list of all award winners and a searchable database of Government Executive articles.\n",
      "Hyopthesis: The Government Executive articles housed on the website are not able to be searched.\n",
      "Label: neutral\n"
     ]
    }
   ],
   "source": [
    "print(mnli_dataset_in_distribution_dict[\"non_grammatical_test_sequences_edit_distance_1\"][0])"
   ]
  },
  {
   "cell_type": "code",
   "execution_count": 20,
   "id": "62b3fa68",
   "metadata": {},
   "outputs": [
    {
     "name": "stdout",
     "output_type": "stream",
     "text": [
      "Premise: Your contribution helped make it possible for us to provide our students with a quality education.\n",
      "Hyopthesis: Your contributions were of no help with our students' education.\n",
      "Label: contradiction\n"
     ]
    }
   ],
   "source": [
    "print(mnli_dataset_out_distribution_dict[\"test_sequences\"][0])"
   ]
  },
  {
   "cell_type": "code",
   "execution_count": 21,
   "id": "ac2bfb41",
   "metadata": {},
   "outputs": [
    {
     "name": "stdout",
     "output_type": "stream",
     "text": [
      "Premise: Your contribution helped make it possible for us to provide our students with a quality education.\n",
      "Hyopthesis: Your contributions were of no help with our students' education.\n",
      "Label: neutral\n"
     ]
    }
   ],
   "source": [
    "print(mnli_dataset_out_distribution_dict[\"non_grammatical_test_sequences_edit_distance_1\"][0])"
   ]
  },
  {
   "cell_type": "code",
   "execution_count": 22,
   "id": "62ddd7db",
   "metadata": {},
   "outputs": [],
   "source": [
    "filename_in_distribution = \"../data/mnli_dataset_in_distribution/sequences_w_edit_distance_mnli_dataset_in_distribution_10000_5.pkl\"\n",
    "filename_out_distribution = \"../data/mnli_dataset_out_distribution/sequences_w_edit_distance_mnli_dataset_out_distribution_10000_5.pkl\"\n",
    "\n",
    "os.system(f\"mkdir -p ../data/mnli_dataset_in_distribution\")\n",
    "os.system(f\"mkdir -p ../data/mnli_dataset_out_distribution\")\n",
    "\n",
    "\n",
    "filename_in_distribution_instruction = \"../data/mnli_dataset_in_distribution/instruction_mnli_dataset_in_distribution.pkl\"\n",
    "filename_out_distribution_instruction = \"../data/mnli_dataset_out_distribution/instruction_mnli_dataset_out_distribution.pkl\"\n",
    "\n",
    "\n",
    "import pickle\n",
    "\n",
    "with open(filename_in_distribution, 'wb') as f:\n",
    "    pickle.dump(mnli_dataset_in_distribution_dict, f)\n",
    "\n",
    "with open(filename_out_distribution, 'wb') as f:\n",
    "    pickle.dump(mnli_dataset_out_distribution_dict, f)\n",
    "\n",
    "with open(filename_in_distribution_instruction, 'wb') as f:\n",
    "    pickle.dump(instruction, f)\n",
    "\n",
    "with open(filename_out_distribution_instruction, 'wb') as f:\n",
    "    pickle.dump(instruction, f)\n"
   ]
  }
 ],
 "metadata": {
  "kernelspec": {
   "display_name": "llm_fl38",
   "language": "python",
   "name": "python3"
  },
  "language_info": {
   "codemirror_mode": {
    "name": "ipython",
    "version": 3
   },
   "file_extension": ".py",
   "mimetype": "text/x-python",
   "name": "python",
   "nbconvert_exporter": "python",
   "pygments_lexer": "ipython3",
   "version": "3.8.0"
  }
 },
 "nbformat": 4,
 "nbformat_minor": 5
}
