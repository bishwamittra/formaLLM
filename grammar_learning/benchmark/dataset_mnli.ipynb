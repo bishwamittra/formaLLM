{
 "cells": [
  {
   "cell_type": "code",
   "execution_count": null,
   "id": "d8ec2a55",
   "metadata": {},
   "outputs": [],
   "source": [
    "import os\n",
    "os.environ[\"HF_HUB_CACHE\"] = \"/NS/formal-grammar-and-memorization/nobackup/shared/huggingface_cache/hub\"\n",
    "os.environ[\"HF_DATASETS_CACHE\"] = \"/NS/formal-grammar-and-memorization/nobackup/shared/huggingface_cache/datasets\""
   ]
  },
  {
   "cell_type": "code",
   "execution_count": null,
   "id": "b9c8f28e",
   "metadata": {},
   "outputs": [],
   "source": [
    "# from datasets import load_dataset\n",
    "# ds = load_dataset(\"nyu-mll/multi_nli\")\n",
    "\n",
    "import pandas as pd\n",
    "\n",
    "splits = {'train': 'data/train-00000-of-00001.parquet', 'validation_matched': 'data/validation_matched-00000-of-00001.parquet', 'validation_mismatched': 'data/validation_mismatched-00000-of-00001.parquet'}\n",
    "df_train = pd.read_parquet(\"hf://datasets/nyu-mll/multi_nli/\" + splits[\"train\"])\n",
    "df_val_matched = pd.read_parquet(\"hf://datasets/nyu-mll/multi_nli/\" + splits[\"validation_matched\"])\n",
    "df_val_mismatched = pd.read_parquet(\"hf://datasets/nyu-mll/multi_nli/\" + splits[\"validation_mismatched\"])"
   ]
  },
  {
   "cell_type": "code",
   "execution_count": null,
   "id": "4d43ff42",
   "metadata": {},
   "outputs": [],
   "source": [
    "label_map = {\n",
    "    1: \"neutral\",\n",
    "    0: \"entailment\",\n",
    "    2: \"contradiction\",\n",
    "}"
   ]
  },
  {
   "cell_type": "code",
   "execution_count": null,
   "id": "ae451bca",
   "metadata": {},
   "outputs": [],
   "source": [
    "import random\n",
    "def process_columns(df):\n",
    "    random.seed(5)\n",
    "    df['label_flipped'] = df['label'].apply(\n",
    "        lambda x: random.choice([label for label in [0, 1, 2] if label != x])\n",
    "    )\n",
    "    assert (df['label_flipped'] != df['label']).all()\n",
    "    df['label_str'] = df['label'].map(label_map)\n",
    "    df['label_flipped_str'] = df['label_flipped'].map(label_map)\n",
    "    df['in-language'] = 'Premise: ' + df[\"premise\"] + '\\nHyopthesis: ' + df[\"hypothesis\"] + '\\nLabel: ' + df[\"label_str\"]\n",
    "    df['out-language'] = 'Premise: ' + df[\"premise\"] + '\\nHyopthesis: ' + df[\"hypothesis\"] + '\\nLabel: ' + df[\"label_flipped_str\"]\n",
    "    return df\n",
    "\n",
    "df_train = process_columns(df_train)\n",
    "df_val_matched = process_columns(df_val_matched)\n",
    "df_val_mismatched = process_columns(df_val_mismatched)"
   ]
  },
  {
   "cell_type": "code",
   "execution_count": null,
   "id": "401132fa",
   "metadata": {},
   "outputs": [],
   "source": [
    "instruction = \"\"\"Provide a classification label for the pair, indicating the relationship between the premise and hypothesis:\n",
    "- entailment : The hypothesis logically follows from the premise.\n",
    "- neutral : The hypothesis is neither entailed nor contradicted by the premise.\n",
    "- contradiction : The hypothesis contradicts the premise.\n",
    "\n",
    "\n",
    "\"\"\""
   ]
  },
  {
   "cell_type": "code",
   "execution_count": null,
   "id": "59763a69",
   "metadata": {},
   "outputs": [],
   "source": [
    "print(df_train.iloc[11]['in-language'])"
   ]
  },
  {
   "cell_type": "code",
   "execution_count": null,
   "id": "75271ad6",
   "metadata": {},
   "outputs": [],
   "source": [
    "print(df_train.iloc[11]['out-language'])"
   ]
  },
  {
   "cell_type": "code",
   "execution_count": null,
   "id": "f7fc1ac1",
   "metadata": {},
   "outputs": [],
   "source": [
    "print(df_val_mismatched.iloc[2]['in-language'])"
   ]
  },
  {
   "cell_type": "code",
   "execution_count": null,
   "id": "7eb0453a",
   "metadata": {},
   "outputs": [],
   "source": [
    "df_train['genre'].unique()"
   ]
  },
  {
   "cell_type": "code",
   "execution_count": null,
   "id": "4bd2e246",
   "metadata": {},
   "outputs": [],
   "source": [
    "df_val_matched.groupby('genre').count()"
   ]
  },
  {
   "cell_type": "code",
   "execution_count": null,
   "id": "f89b6ea8",
   "metadata": {},
   "outputs": [],
   "source": [
    "df_val_matched['genre'].unique()"
   ]
  },
  {
   "cell_type": "code",
   "execution_count": null,
   "id": "5e7a1ea5",
   "metadata": {},
   "outputs": [],
   "source": [
    "# select one genre only\n",
    "df_train = df_train[df_train['genre'] == 'government']\n",
    "df_val_matched = df_val_matched[df_val_matched['genre'] == 'government']\n",
    "\n",
    "df_train.shape, df_val_matched.shape, df_val_mismatched.shape"
   ]
  },
  {
   "cell_type": "code",
   "execution_count": null,
   "id": "8ba39b7d",
   "metadata": {},
   "outputs": [],
   "source": [
    "df_val_mismatched['genre'].unique()"
   ]
  },
  {
   "cell_type": "code",
   "execution_count": null,
   "id": "d952fedc",
   "metadata": {},
   "outputs": [],
   "source": [
    "df_train['in-language_len'] = df_train['in-language'].apply(lambda x: len(x.strip()))\n",
    "df_train['out-language_len'] = df_train['out-language'].apply(lambda x: len(x.strip()))\n",
    "df_val_matched['in-language_len'] = df_val_matched['in-language'].apply(lambda x: len(x.strip()))\n",
    "df_val_matched['out-language_len'] = df_val_matched['out-language'].apply(lambda x: len(x.strip()))\n",
    "df_val_mismatched['in-language_len'] = df_val_mismatched['in-language'].apply(lambda x: len(x.strip()))\n",
    "df_val_mismatched['out-language_len'] = df_val_mismatched['out-language'].apply(lambda x: len(x.strip()))"
   ]
  },
  {
   "cell_type": "code",
   "execution_count": null,
   "id": "96317fa2",
   "metadata": {},
   "outputs": [],
   "source": [
    "df_train[df_train['in-language_len'] == 0].shape, df_train[df_train['out-language_len'] == 0].shape, df_val_matched[df_val_matched['in-language_len'] == 0].shape, df_val_matched[df_val_matched['out-language_len'] == 0].shape, df_val_mismatched[df_val_mismatched['in-language_len'] == 0].shape, df_val_mismatched[df_val_mismatched['out-language_len'] == 0].shape"
   ]
  },
  {
   "cell_type": "code",
   "execution_count": null,
   "id": "e07a1b6d",
   "metadata": {},
   "outputs": [],
   "source": [
    "fa"
   ]
  },
  {
   "cell_type": "code",
   "execution_count": null,
   "id": "cf0b353a",
   "metadata": {},
   "outputs": [],
   "source": [
    "mnli_dataset_in_distribution_dict = {\n",
    "    \"train_sequences\": df_train['in-language'].tolist(),\n",
    "    \"test_sequences\": df_val_matched['in-language'].tolist(),\n",
    "    \"non_grammatical_test_sequences_edit_distance_1\": df_val_matched['out-language'].tolist(),\n",
    "}\n",
    "\n",
    "\n",
    "mnli_dataset_out_distribution_dict = {\n",
    "    \"train_sequences\": df_train['in-language'].tolist(),\n",
    "    \"test_sequences\": df_val_mismatched['in-language'].tolist(),\n",
    "    \"non_grammatical_test_sequences_edit_distance_1\": df_val_mismatched['out-language'].tolist(),\n",
    "}"
   ]
  },
  {
   "cell_type": "code",
   "execution_count": null,
   "id": "37b87ec2",
   "metadata": {},
   "outputs": [],
   "source": [
    "print(mnli_dataset_in_distribution_dict[\"test_sequences\"][0])"
   ]
  },
  {
   "cell_type": "code",
   "execution_count": null,
   "id": "39d27d86",
   "metadata": {},
   "outputs": [],
   "source": [
    "print(mnli_dataset_in_distribution_dict[\"non_grammatical_test_sequences_edit_distance_1\"][0])"
   ]
  },
  {
   "cell_type": "code",
   "execution_count": null,
   "id": "62b3fa68",
   "metadata": {},
   "outputs": [],
   "source": [
    "print(mnli_dataset_out_distribution_dict[\"test_sequences\"][0])"
   ]
  },
  {
   "cell_type": "code",
   "execution_count": null,
   "id": "ac2bfb41",
   "metadata": {},
   "outputs": [],
   "source": [
    "print(mnli_dataset_out_distribution_dict[\"non_grammatical_test_sequences_edit_distance_1\"][0])"
   ]
  },
  {
   "cell_type": "code",
   "execution_count": null,
   "id": "62ddd7db",
   "metadata": {},
   "outputs": [],
   "source": [
    "filename_in_distribution = \"../data/mnli_dataset_in_distribution/sequences_w_edit_distance_mnli_dataset_in_distribution_10000_5.pkl\"\n",
    "filename_out_distribution = \"../data/mnli_dataset_out_distribution/sequences_w_edit_distance_mnli_dataset_out_distribution_10000_5.pkl\"\n",
    "\n",
    "os.system(f\"mkdir -p ../data/mnli_dataset_in_distribution\")\n",
    "os.system(f\"mkdir -p ../data/mnli_dataset_out_distribution\")\n",
    "\n",
    "\n",
    "filename_in_distribution_instruction = \"../data/mnli_dataset_in_distribution/instruction_mnli_dataset_in_distribution.pkl\"\n",
    "filename_out_distribution_instruction = \"../data/mnli_dataset_out_distribution/instruction_mnli_dataset_out_distribution.pkl\"\n",
    "\n",
    "\n",
    "import pickle\n",
    "\n",
    "with open(filename_in_distribution, 'wb') as f:\n",
    "    pickle.dump(mnli_dataset_in_distribution_dict, f)\n",
    "\n",
    "with open(filename_out_distribution, 'wb') as f:\n",
    "    pickle.dump(mnli_dataset_out_distribution_dict, f)\n",
    "\n",
    "with open(filename_in_distribution_instruction, 'wb') as f:\n",
    "    pickle.dump(instruction, f)\n",
    "\n",
    "with open(filename_out_distribution_instruction, 'wb') as f:\n",
    "    pickle.dump(instruction, f)\n"
   ]
  },
  {
   "cell_type": "code",
   "execution_count": null,
   "id": "6b5a44f5",
   "metadata": {},
   "outputs": [],
   "source": [
    "fa"
   ]
  },
  {
   "cell_type": "code",
   "execution_count": null,
   "id": "ba85776c",
   "metadata": {},
   "outputs": [],
   "source": [
    "import os\n",
    "os.environ[\"HF_HUB_CACHE\"] = \"/NS/formal-grammar-and-memorization/nobackup/shared/huggingface_cache/hub\"\n",
    "os.environ[\"HF_DATASETS_CACHE\"] = \"/NS/formal-grammar-and-memorization/nobackup/shared/huggingface_cache/datasets\"\n",
    "from transformers import set_seed, AutoTokenizer, AutoModelForCausalLM"
   ]
  },
  {
   "cell_type": "code",
   "execution_count": null,
   "id": "47fd0156",
   "metadata": {},
   "outputs": [],
   "source": [
    "seed = 5\n",
    "set_seed(seed)\n",
    "model = \"EleutherAI/pythia-1b\"\n",
    "tokenizer = AutoTokenizer.from_pretrained(model)"
   ]
  },
  {
   "cell_type": "code",
   "execution_count": null,
   "id": "e986d5a8",
   "metadata": {},
   "outputs": [],
   "source": [
    "tokenizer.decode([    0,  1394,   588,   320,  1677,  6430,   432,   247,  7473,  3448,\n",
    "           13,  9070,   407,   686,    28,  5983,  5402,  4836,   310,   281,\n",
    "         6635,   247,   747,  3425,   407,  4715, 43548,  9994,  6127,   432,\n",
    "          253,  1677,  6430,    15,   209,    23,    21,    22,    26,    25,\n",
    "           24,    18,    19,    20,    18,    19,    20,    23,    22,    25,\n",
    "           24,    26,    25,    24,    20,    18,    23,    22,    23,    22,\n",
    "           18,    19,    20,    26,    25,    24,    20,    18,    25,    24,\n",
    "           23,    21,    22,    20,    18,    26,    25,    24,    23,    22,\n",
    "           23,    21,    22,    20,    18,    26,    25,    24,    23,    22,\n",
    "           25,    24,    18,    19,    20,    28,    23,    21,    22,    26,\n",
    "           25,    24,    18,    19,    20,    23,    22,    20,    18,    26,\n",
    "           25,    24,    18,    19,    20,    25,    24,    23,    21,    22,\n",
    "           23,    21,    22,    26,    25,    24,    18,    19,    20,    23,\n",
    "           21,    22,    18,    19,    20,    26,    25,    24,    28,    23,\n",
    "           22,    18,    19,    20,    26,    25,    24,    26,    25,    24,\n",
    "           20,    18,    23,    21,    22,    23,    22,    20,    18,    25,\n",
    "           24,    23,    22,    25,    24,    18,    19,    20,    26,    25,\n",
    "           24,    23,    21,    22,    18,    19,    20,    20,    18,    23,\n",
    "           22,    26,    25,    24,    26,    25,    24,    23,    22,    18,\n",
    "           19,    20,    25,    24,    18,    19,    20,    23,    22,    28,\n",
    "           25,    24,    20,    18,    23,    21,    22,    20,    18,    23,\n",
    "           22,    25,    24,    18,    19,    20,    23,    21,    22,    25,\n",
    "           24,    23,    22,    25,    24,    18,    19,    20,    25,    24,\n",
    "           23,    21,    22,    20,    18,    18,    19,    20,    23,    21,\n",
    "           22,    25,    24,    18,    19,    20,    26,    25,    24,    23,\n",
    "           22,    23,    21,    22,    25,    24,    20,    18,    28,    23,\n",
    "           21,    22,    20,    18,    26,    25,    24,    23,    21,    22,\n",
    "           26,    25,    24,    18,    19,    20,    23,    22,    26,    25,\n",
    "           24,    18,    19,    20,    23,    21,    22,    18,    19,    20,\n",
    "           25,    24,    20,    18,    25,    24,    23,    21,    22,    25,\n",
    "           24,    23,    22,    20,    18,    18,    19,    20,    23,    22,\n",
    "           25,    24,    23,    21,    22,    25,    24,    18,    19,    20,\n",
    "           28,    25,    24,    18,    19,    20,    23,    21,    22,    23,\n",
    "           22,    20,    18,    26,    25,    24,    20,    18,    25,    24,\n",
    "           23,    21,    22,    23,    22,    25,    24,    20,    18,    23,\n",
    "           21,    22,    18,    19,    20,    25,    24,    28,    23,    21,\n",
    "           22,    25,    24,    18,    19,    20,    20,    18,    23,    21,\n",
    "           22,    26,    25,    24,    18,    19,    20,    23,    22,    26,\n",
    "           25,    24,    23,    22,    25,    24,    20,    18,    18,    19,\n",
    "           20,    26,    25,    24,    23,    21,    22,    25,    24,    23,\n",
    "           21,    22,    20,    18,    23,    21,    22,    18,    19,    20,\n",
    "           26,    25,    24,    23,    21,    22,    26,    25,    24,    18,\n",
    "           19,    20,    28,    26,    25,    24,    18,    19,    20,    23,\n",
    "           21,    22,    23,    22,    20,    18,    25,    24,    23,    21,\n",
    "           22,    20,    18,    25,    24,    25,    24,    18,    19,    20,\n",
    "           23,    21,    22,    18,    19,    20,    26,    25,    24,    23,\n",
    "           21,    22,    20,    18,    23,    22,    26,    25,    24,    25,\n",
    "           24,    23,    21,    22,    20,    18,    23,    22,    26,    25,\n",
    "           24,    20,    18,    28,    25,    24,    18,    19,    20,    23,\n",
    "           22,    18,    19,    20,    23,    21,    22,    26,    25,    24,\n",
    "           18,    19,    20,    26,    25,    24,    23,    21,    22,    23,\n",
    "           21,    22,    18,    19,    20,    26,    25,    24,    23,    21,\n",
    "           22,    26,    25,    24,    20,    18,    28,    20,    18,    23,\n",
    "           21,    22,    26,    25,    24,    26,    25,    24,    18,    19,\n",
    "           20,    23,    21,    22,    20,    18,    25,    24,    23,    21,\n",
    "           22,    26,    25,    24,    20,    18,    23,    22,    23,    21,\n",
    "           22,    20,    18,    26,    25,    24,    28,    23,    22,    20,\n",
    "           18,    26,    25,    24,    25,    24,    18,    19,    20,    23,\n",
    "           22,    26,    25,    24,    20,    18,    23,    21,    22,    20,\n",
    "           18,    23,    21,    22,    26,    25,    24,    25,    24,    23,\n",
    "           21,    22,    20,    18,    26,    25,    24,    23,    22,    20,\n",
    "           18,    18,    19,    20,    23,    21,    22,    25,    24,    23,\n",
    "           21,    22,    26,    25,    24,    18,    19,    20,    28,    25,\n",
    "           24,    18,    19,    20,    23,    21,    22,    23,    22,    18,\n",
    "           19,    20,    26,    25,    24,    26,    25,    24,    18,    19,\n",
    "           20,    23,    21,    22,    20,    18,    23,    21,    22,    26,\n",
    "           25,    24,    20,    18,    26,    25,    24,    23,    21,    22,\n",
    "           25,    24,    23,    21,    22,    20,    18,    23,    21,    22,\n",
    "           18,    19,    20,    25,    24,    23,    22,    26,    25,    24,\n",
    "           20,    18,    28,    18,    19,    20,    23,    22,    26,    25,\n",
    "           24,    23,    22,    25,    24,    20,    18,    25,    24,    23,\n",
    "           21,    22,    20,    18,    25,    24,    18,    19,    20,    23,\n",
    "           21,    22,    23,    21,    22,    18,    19,    20,    25,    24,\n",
    "           28,    23,    22,    20,    18,    26,    25,    24,    23,    22,\n",
    "           26,    25,    24,    18,    19,    20,    18,    19,    20,    25,\n",
    "           24,    23,    22,    23,    21,    22,    18,    19,    20,    25,\n",
    "           24,    25,    24,    18,    19,    20,    23,    21,    22,    28,\n",
    "           23,    21,    22,    18,    19,    20,    25,    24,    25,    24,\n",
    "           18,    19,    20,    23,    21,    22,    20,    18,    26,    25,\n",
    "           24,    23,    21,    22,    25,    24,    20,    18,    23,    21,\n",
    "           22,    18,    19,    20,    23,    22,    25,    24,    28,    23,\n",
    "           22,    18,    19,    20,    26,    25,    24,    25,    24,    20,\n",
    "           18,    23,    22,    20,    18,    26,    25,    24,    23,    21,\n",
    "           22,    20,    18,    23,    22,    25,    24,    23,    22,    25,\n",
    "           24,    20,    18,    28,     0])"
   ]
  },
  {
   "cell_type": "code",
   "execution_count": null,
   "id": "c287e39d",
   "metadata": {},
   "outputs": [],
   "source": [
    "tokenizer.decode([49,  83,  70,  78,  74,  84,  70,  27, 209,   8,  42,\n",
    "        209,  84,  66,  88, 209,  73,  74,  78, 209,  72,  70,  85, 209,  66,\n",
    "         67,  80,  66,  83,  69, 209,  78,  90,  84,  70,  77,  71,  15, 187,\n",
    "         41,  90,  80,  81,  85,  73,  70,  84,  74,  84,  27, 209,  42, 209,\n",
    "         84,  66,  88, 209,  73,  74,  78, 209,  72,  70,  85, 209,  80,  79,\n",
    "        209,  85,  73,  70, 209,  85,  83,  66,  74,  79,  15, 187,  45,  66,\n",
    "         67,  70,  77,  27, 209,  68,  80,  79,  85,  83,  66,  69,  74,  68,\n",
    "         85,  74,  80,  79,   0])"
   ]
  },
  {
   "cell_type": "code",
   "execution_count": null,
   "id": "5371754e",
   "metadata": {},
   "outputs": [],
   "source": [
    "tokenizer.encode(\"Premise: I saw him get aboard myself.\\nHyopthesis: I saw him get on the train.\\nLabel: contradiction\")"
   ]
  },
  {
   "cell_type": "code",
   "execution_count": null,
   "id": "824d9904",
   "metadata": {},
   "outputs": [],
   "source": [
    "tokenizer.decode([    0,   831,   535,   533,   535,  4129,   535, 22955,   535,  1723,\n",
    "          535,     0])"
   ]
  },
  {
   "cell_type": "code",
   "execution_count": null,
   "id": "32ba63cc",
   "metadata": {},
   "outputs": [],
   "source": []
  }
 ],
 "metadata": {
  "kernelspec": {
   "display_name": "llm_fl38",
   "language": "python",
   "name": "python3"
  },
  "language_info": {
   "codemirror_mode": {
    "name": "ipython",
    "version": 3
   },
   "file_extension": ".py",
   "mimetype": "text/x-python",
   "name": "python",
   "nbconvert_exporter": "python",
   "pygments_lexer": "ipython3",
   "version": "3.8.0"
  }
 },
 "nbformat": 4,
 "nbformat_minor": 5
}
